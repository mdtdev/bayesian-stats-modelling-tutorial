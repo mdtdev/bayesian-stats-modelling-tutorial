{
 "cells": [
  {
   "cell_type": "code",
   "execution_count": 2,
   "metadata": {},
   "outputs": [],
   "source": [
    "#Import packages\n",
    "import numpy as np\n",
    "import pandas as pd\n",
    "import seaborn as sns\n",
    "import matplotlib.pyplot as plt\n",
    "%matplotlib inline\n",
    "sns.set()"
   ]
  },
  {
   "cell_type": "code",
   "execution_count": 5,
   "metadata": {},
   "outputs": [
    {
     "data": {
      "image/png": "[encoded data removed]",
      "text/plain": [
       "<Figure size 432x288 with 1 Axes>"
      ]
     },
     "metadata": {},
     "output_type": "display_data"
    }
   ],
   "source": [
    "# Draw 1,000 samples from uniform & plot results\n",
    "x = np.random.rand(1000)\n",
    "plt.hist(x);"
   ]
  },
  {
   "cell_type": "code",
   "execution_count": 27,
   "metadata": {},
   "outputs": [
    {
     "name": "stdout",
     "output_type": "stream",
     "text": [
      "0.49742 0.0359095196292014\n",
      "0.4270373415267652 0.5678026584732347\n"
     ]
    }
   ],
   "source": [
    "# Bootstrap WRONG\n",
    "\n",
    "proportions = []\n",
    "for i in range(1000):                       # Modded to 1000 for testing\n",
    "    subset = np.random.choice(x, size=200)  # Wrong size for question\n",
    "    clicks = subset <= .5\n",
    "    n_clicks = sum(clicks)\n",
    "    prop = n_clicks/len(clicks)\n",
    "    proportions.append(prop)           \n",
    "\n",
    "print(np.mean(proportions), np.std(proportions)) # Backwards wrong table method!\n",
    "bootm = np.mean(proportions)\n",
    "boots = np.std(proportions)\n",
    "print(bootm - 1.96*boots, bootm + 1.96*boots)   # Using true critical t's TOO WIDE"
   ]
  },
  {
   "cell_type": "code",
   "execution_count": 26,
   "metadata": {},
   "outputs": [
    {
     "name": "stdout",
     "output_type": "stream",
     "text": [
      "0.465 0.527\n"
     ]
    }
   ],
   "source": [
    "# Bootstrap RIGHT\n",
    "\n",
    "n = len(x)   # Sample size for each bootstrap resample (must equal original!)\n",
    "m = 10000    # Number of bootstrap samples\n",
    "alpha = 0.05 # Interval type (classical)\n",
    "\n",
    "proportions = []\n",
    "for i in range(m):                       \n",
    "    bootsample = np.random.choice(x, size = n, replace = True)\n",
    "    n_clicks   = sum(bootsample <= .5)\n",
    "    prop = n_clicks/n\n",
    "    proportions.append(prop)\n",
    "\n",
    "sp = np.sort(proportions)     # Sort!\n",
    "\n",
    "# For alpha/2, 1-alpha/2 interval, need to multiply against m the number of bootstrap samples:\n",
    "\n",
    "print(sp[int(alpha/2*m)], sp[int((1-alpha/2)*m)])"
   ]
  },
  {
   "cell_type": "code",
   "execution_count": 23,
   "metadata": {},
   "outputs": [
    {
     "data": {
      "text/plain": [
       "25"
      ]
     },
     "execution_count": 23,
     "metadata": {},
     "output_type": "execute_result"
    }
   ],
   "source": [
    "m = 1000\n",
    "alpha = 0.05\n",
    "\n",
    "int((alpha/2)*m)"
   ]
  },
  {
   "cell_type": "code",
   "execution_count": 9,
   "metadata": {},
   "outputs": [
    {
     "data": {
      "text/plain": [
       "200"
      ]
     },
     "execution_count": 9,
     "metadata": {},
     "output_type": "execute_result"
    }
   ],
   "source": [
    "len(clicks)"
   ]
  },
  {
   "cell_type": "code",
   "execution_count": null,
   "metadata": {},
   "outputs": [],
   "source": []
  }
 ],
 "metadata": {
  "kernelspec": {
   "display_name": "Python 3",
   "language": "python",
   "name": "python3"
  },
  "language_info": {
   "codemirror_mode": {
    "name": "ipython",
    "version": 3
   },
   "file_extension": ".py",
   "mimetype": "text/x-python",
   "name": "python",
   "nbconvert_exporter": "python",
   "pygments_lexer": "ipython3",
   "version": "3.7.6"
  }
 },
 "nbformat": 4,
 "nbformat_minor": 4
}
